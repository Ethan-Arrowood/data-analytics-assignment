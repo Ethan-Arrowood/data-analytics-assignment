{
 "cells": [
  {
   "cell_type": "markdown",
   "metadata": {},
   "source": [
    "# Part 1 - Data Preparation and Preprocessing"
   ]
  },
  {
   "cell_type": "code",
   "execution_count": 1,
   "metadata": {},
   "outputs": [
    {
     "name": "stdout",
     "output_type": "stream",
     "text": [
      "Number of reviews: 231780\n",
      "Number of chunks: 232\n"
     ]
    }
   ],
   "source": [
    "import pandas as pd\n",
    "import numpy as np\n",
    "import matplotlib.pyplot as plt\n",
    "\n",
    "# import data\n",
    "json_reader = pd.read_json('data/reviews_Video_Games_5.json', lines=True, chunksize=1000)\n",
    "\n",
    "# instantiate data frame\n",
    "df = pd.DataFrame(columns=['reviewerID', 'asin', 'reviewerName', 'helpful', 'reviewText', 'overall', 'summary', 'unixReviewTime', 'reviewTime'])\n",
    "\n",
    "# process data\n",
    "num_chunks = 0\n",
    "for chunk in json_reader:\n",
    "    df = pd.concat([df, chunk])\n",
    "    num_chunks+=1\n",
    "    \n",
    "\n",
    "print('Number of reviews: %d' % len(df))\n",
    "print('Number of chunks: %d' % num_chunks)"
   ]
  },
  {
   "cell_type": "code",
   "execution_count": 3,
   "metadata": {
    "scrolled": true
   },
   "outputs": [
    {
     "name": "stdout",
     "output_type": "stream",
     "text": [
      "<class 'pandas.core.frame.DataFrame'>\n",
      "Int64Index: 231780 entries, 0 to 231779\n",
      "Data columns (total 9 columns):\n",
      "asin              231780 non-null object\n",
      "helpful           231780 non-null object\n",
      "overall           231780 non-null object\n",
      "reviewText        231780 non-null object\n",
      "reviewTime        231780 non-null object\n",
      "reviewerID        231780 non-null object\n",
      "reviewerName      228967 non-null object\n",
      "summary           231780 non-null object\n",
      "unixReviewTime    231780 non-null object\n",
      "dtypes: object(9)\n",
      "memory usage: 17.7+ MB\n"
     ]
    }
   ],
   "source": [
    "df.info()"
   ]
  },
  {
   "cell_type": "code",
   "execution_count": 4,
   "metadata": {
    "scrolled": false
   },
   "outputs": [
    {
     "data": {
      "text/html": [
       "<div>\n",
       "<style scoped>\n",
       "    .dataframe tbody tr th:only-of-type {\n",
       "        vertical-align: middle;\n",
       "    }\n",
       "\n",
       "    .dataframe tbody tr th {\n",
       "        vertical-align: top;\n",
       "    }\n",
       "\n",
       "    .dataframe thead th {\n",
       "        text-align: right;\n",
       "    }\n",
       "</style>\n",
       "<table border=\"1\" class=\"dataframe\">\n",
       "  <thead>\n",
       "    <tr style=\"text-align: right;\">\n",
       "      <th></th>\n",
       "      <th>asin</th>\n",
       "      <th>helpful</th>\n",
       "      <th>overall</th>\n",
       "      <th>reviewText</th>\n",
       "      <th>reviewTime</th>\n",
       "      <th>reviewerID</th>\n",
       "      <th>reviewerName</th>\n",
       "      <th>summary</th>\n",
       "      <th>unixReviewTime</th>\n",
       "    </tr>\n",
       "  </thead>\n",
       "  <tbody>\n",
       "    <tr>\n",
       "      <th>0</th>\n",
       "      <td>0700099867</td>\n",
       "      <td>[8, 12]</td>\n",
       "      <td>1</td>\n",
       "      <td>Installing the game was a struggle (because of...</td>\n",
       "      <td>07 9, 2012</td>\n",
       "      <td>A2HD75EMZR8QLN</td>\n",
       "      <td>123</td>\n",
       "      <td>Pay to unlock content? I don't think so.</td>\n",
       "      <td>1341792000</td>\n",
       "    </tr>\n",
       "    <tr>\n",
       "      <th>1</th>\n",
       "      <td>0700099867</td>\n",
       "      <td>[0, 0]</td>\n",
       "      <td>4</td>\n",
       "      <td>If you like rally cars get this game you will ...</td>\n",
       "      <td>06 30, 2013</td>\n",
       "      <td>A3UR8NLLY1ZHCX</td>\n",
       "      <td>Alejandro Henao \"Electronic Junky\"</td>\n",
       "      <td>Good rally game</td>\n",
       "      <td>1372550400</td>\n",
       "    </tr>\n",
       "    <tr>\n",
       "      <th>2</th>\n",
       "      <td>0700099867</td>\n",
       "      <td>[0, 0]</td>\n",
       "      <td>1</td>\n",
       "      <td>1st shipment received a book instead of the ga...</td>\n",
       "      <td>06 28, 2014</td>\n",
       "      <td>A1INA0F5CWW3J4</td>\n",
       "      <td>Amazon Shopper \"Mr.Repsol\"</td>\n",
       "      <td>Wrong key</td>\n",
       "      <td>1403913600</td>\n",
       "    </tr>\n",
       "    <tr>\n",
       "      <th>3</th>\n",
       "      <td>0700099867</td>\n",
       "      <td>[7, 10]</td>\n",
       "      <td>3</td>\n",
       "      <td>I got this version instead of the PS3 version,...</td>\n",
       "      <td>09 14, 2011</td>\n",
       "      <td>A1DLMTOTHQ4AST</td>\n",
       "      <td>ampgreen</td>\n",
       "      <td>awesome game, if it did not crash frequently !!</td>\n",
       "      <td>1315958400</td>\n",
       "    </tr>\n",
       "    <tr>\n",
       "      <th>4</th>\n",
       "      <td>0700099867</td>\n",
       "      <td>[2, 2]</td>\n",
       "      <td>4</td>\n",
       "      <td>I had Dirt 2 on Xbox 360 and it was an okay ga...</td>\n",
       "      <td>06 14, 2011</td>\n",
       "      <td>A361M14PU2GUEG</td>\n",
       "      <td>Angry Ryan \"Ryan A. Forrest\"</td>\n",
       "      <td>DIRT 3</td>\n",
       "      <td>1308009600</td>\n",
       "    </tr>\n",
       "  </tbody>\n",
       "</table>\n",
       "</div>"
      ],
      "text/plain": [
       "         asin  helpful overall  \\\n",
       "0  0700099867  [8, 12]       1   \n",
       "1  0700099867   [0, 0]       4   \n",
       "2  0700099867   [0, 0]       1   \n",
       "3  0700099867  [7, 10]       3   \n",
       "4  0700099867   [2, 2]       4   \n",
       "\n",
       "                                          reviewText   reviewTime  \\\n",
       "0  Installing the game was a struggle (because of...   07 9, 2012   \n",
       "1  If you like rally cars get this game you will ...  06 30, 2013   \n",
       "2  1st shipment received a book instead of the ga...  06 28, 2014   \n",
       "3  I got this version instead of the PS3 version,...  09 14, 2011   \n",
       "4  I had Dirt 2 on Xbox 360 and it was an okay ga...  06 14, 2011   \n",
       "\n",
       "       reviewerID                        reviewerName  \\\n",
       "0  A2HD75EMZR8QLN                                 123   \n",
       "1  A3UR8NLLY1ZHCX  Alejandro Henao \"Electronic Junky\"   \n",
       "2  A1INA0F5CWW3J4          Amazon Shopper \"Mr.Repsol\"   \n",
       "3  A1DLMTOTHQ4AST                            ampgreen   \n",
       "4  A361M14PU2GUEG        Angry Ryan \"Ryan A. Forrest\"   \n",
       "\n",
       "                                           summary unixReviewTime  \n",
       "0         Pay to unlock content? I don't think so.     1341792000  \n",
       "1                                  Good rally game     1372550400  \n",
       "2                                        Wrong key     1403913600  \n",
       "3  awesome game, if it did not crash frequently !!     1315958400  \n",
       "4                                           DIRT 3     1308009600  "
      ]
     },
     "execution_count": 4,
     "metadata": {},
     "output_type": "execute_result"
    }
   ],
   "source": [
    "df.head()"
   ]
  },
  {
   "cell_type": "markdown",
   "metadata": {},
   "source": [
    "#  1.1 Describe the dataset\n",
    "\n",
    "We selected the Videogame review set. It contains 231780 reviews. The attributes available in the data set include the unique item number (`asin`), the ratings (`helpful, overall`), metadata about the review (`reviewText, reviewTime, summary, unixReviewTime`), and metadata about the reviewer (`reviewerID, reviewerName`). We will use the ratings and review metadata to analyze the sentiment of the reviews and we will use the time metadata for studying the cyclical events as well as influence of critical events. "
   ]
  },
  {
   "cell_type": "code",
   "execution_count": 2,
   "metadata": {},
   "outputs": [
    {
     "name": "stdout",
     "output_type": "stream",
     "text": [
      "            asin helpful overall  \\\n",
      "78    9861019731  [0, 0]       5   \n",
      "831   B00000F1GM  [3, 3]       5   \n",
      "1007  B00000I1BF  [0, 0]       5   \n",
      "1008  B00000I1BF  [0, 0]       5   \n",
      "1471  B00000IWYT  [0, 0]       5   \n",
      "\n",
      "                                             reviewText      reviewerID  \\\n",
      "78        It works perfectly! Nothing is wrong with it.  A26HSO6VAFB2V4   \n",
      "831   For those of you who haven't played Super Mari...  A2WTO0ST2SUUY9   \n",
      "1007  classic game for the ps1. i love it and it sti...   A3OU09O34BC73   \n",
      "1008  I was feeling nostalgic so I bought this game ...   ANLC4FX4QK23V   \n",
      "1471  Wow...the only Game Boy games that even come c...  A1OYBF92TASIWN   \n",
      "\n",
      "     reviewerName                              summary unixReviewTime  \n",
      "78            NaN                             Perfect!     1405209600  \n",
      "831           NaN                Super Mario 64 Review     1357776000  \n",
      "1007          NaN                             so fun!!     1405209600  \n",
      "1008          NaN                 Blast from the past!     1371427200  \n",
      "1471          NaN  By far, the best Game Boy game ever      987379200  \n"
     ]
    }
   ],
   "source": [
    "# remove reviewTime column\n",
    "if 'reviewTime' in df.columns:\n",
    "    df.drop(columns=['reviewTime'], inplace=True)\n",
    "\n",
    "# show na/null values\n",
    "null_data = df[df.isnull().any(axis=1)]\n",
    "\n",
    "print(null_data[:5])\n",
    "\n",
    "# the only column worth filling is the 'reviewerName'"
   ]
  },
  {
   "cell_type": "code",
   "execution_count": 3,
   "metadata": {},
   "outputs": [],
   "source": [
    "# fill na values\n",
    "na_values = { 'asin': 0, 'overall': 0, 'reviewText': 'Review Text Not Available', 'reviewerID': 'Reviewer ID Not Available', 'reviewerName': 'Missing Reviewer Name', 'summary': 'Summary Not Available', 'unixReviewTime': 0 }\n",
    "df.fillna(value={'reviewerName': 'Missing Reviewer Name'}, inplace=True)"
   ]
  },
  {
   "cell_type": "markdown",
   "metadata": {},
   "source": [
    "# 1.2 Data Preparation and Preprocessing\n",
    "Data is loaded via Pandas `.read_json` method using `chunkloading`. This returns an iterable `FileReader` object containing `DataFrames` as chunks of data. We then concatenate all of these chunks into a single `DataFrame`. Data is cleaned by filling all of the NA values with a default value. In our data set the only missing data was `reviewerName`; it was replaced with the string `\"Missing Reviewer Name\"`."
   ]
  },
  {
   "cell_type": "markdown",
   "metadata": {},
   "source": [
    "# 1.3 Hypothesis about the Analysis\n",
    "We believe there will be a positive correlation between positive-sentiment reviews and high ratings. (Nana insert a hypothesis for your Analysis question here)"
   ]
  },
  {
   "cell_type": "markdown",
   "metadata": {},
   "source": [
    "# Part 2 - Data Analysis"
   ]
  },
  {
   "cell_type": "code",
   "execution_count": 25,
   "metadata": {},
   "outputs": [
    {
     "data": {
      "text/html": [
       "<div>\n",
       "<style scoped>\n",
       "    .dataframe tbody tr th:only-of-type {\n",
       "        vertical-align: middle;\n",
       "    }\n",
       "\n",
       "    .dataframe tbody tr th {\n",
       "        vertical-align: top;\n",
       "    }\n",
       "\n",
       "    .dataframe thead th {\n",
       "        text-align: right;\n",
       "    }\n",
       "</style>\n",
       "<table border=\"1\" class=\"dataframe\">\n",
       "  <thead>\n",
       "    <tr style=\"text-align: right;\">\n",
       "      <th></th>\n",
       "      <th>asin</th>\n",
       "      <th>helpful</th>\n",
       "      <th>overall</th>\n",
       "      <th>reviewText</th>\n",
       "      <th>reviewerID</th>\n",
       "      <th>reviewerName</th>\n",
       "      <th>summary</th>\n",
       "      <th>unixReviewTime</th>\n",
       "      <th>sentiment</th>\n",
       "    </tr>\n",
       "  </thead>\n",
       "  <tbody>\n",
       "    <tr>\n",
       "      <th>0</th>\n",
       "      <td>0700099867</td>\n",
       "      <td>[8, 12]</td>\n",
       "      <td>1</td>\n",
       "      <td>Installing the game was a struggle (because of...</td>\n",
       "      <td>A2HD75EMZR8QLN</td>\n",
       "      <td>123</td>\n",
       "      <td>Pay to unlock content? I don't think so.</td>\n",
       "      <td>1341792000</td>\n",
       "      <td>(-0.0001893939393939522, 0.6036195286195286)</td>\n",
       "    </tr>\n",
       "    <tr>\n",
       "      <th>1</th>\n",
       "      <td>0700099867</td>\n",
       "      <td>[0, 0]</td>\n",
       "      <td>4</td>\n",
       "      <td>If you like rally cars get this game you will ...</td>\n",
       "      <td>A3UR8NLLY1ZHCX</td>\n",
       "      <td>Alejandro Henao \"Electronic Junky\"</td>\n",
       "      <td>Good rally game</td>\n",
       "      <td>1372550400</td>\n",
       "      <td>(0.225, 0.4125)</td>\n",
       "    </tr>\n",
       "    <tr>\n",
       "      <th>2</th>\n",
       "      <td>0700099867</td>\n",
       "      <td>[0, 0]</td>\n",
       "      <td>1</td>\n",
       "      <td>1st shipment received a book instead of the ga...</td>\n",
       "      <td>A1INA0F5CWW3J4</td>\n",
       "      <td>Amazon Shopper \"Mr.Repsol\"</td>\n",
       "      <td>Wrong key</td>\n",
       "      <td>1403913600</td>\n",
       "      <td>(-0.1708333333333333, 0.8166666666666668)</td>\n",
       "    </tr>\n",
       "    <tr>\n",
       "      <th>3</th>\n",
       "      <td>0700099867</td>\n",
       "      <td>[7, 10]</td>\n",
       "      <td>3</td>\n",
       "      <td>I got this version instead of the PS3 version,...</td>\n",
       "      <td>A1DLMTOTHQ4AST</td>\n",
       "      <td>ampgreen</td>\n",
       "      <td>awesome game, if it did not crash frequently !!</td>\n",
       "      <td>1315958400</td>\n",
       "      <td>(0.007527056277056293, 0.4751455026455026)</td>\n",
       "    </tr>\n",
       "    <tr>\n",
       "      <th>4</th>\n",
       "      <td>0700099867</td>\n",
       "      <td>[2, 2]</td>\n",
       "      <td>4</td>\n",
       "      <td>I had Dirt 2 on Xbox 360 and it was an okay ga...</td>\n",
       "      <td>A361M14PU2GUEG</td>\n",
       "      <td>Angry Ryan \"Ryan A. Forrest\"</td>\n",
       "      <td>DIRT 3</td>\n",
       "      <td>1308009600</td>\n",
       "      <td>(0.19079545454545455, 0.4518181818181818)</td>\n",
       "    </tr>\n",
       "  </tbody>\n",
       "</table>\n",
       "</div>"
      ],
      "text/plain": [
       "         asin  helpful overall  \\\n",
       "0  0700099867  [8, 12]       1   \n",
       "1  0700099867   [0, 0]       4   \n",
       "2  0700099867   [0, 0]       1   \n",
       "3  0700099867  [7, 10]       3   \n",
       "4  0700099867   [2, 2]       4   \n",
       "\n",
       "                                          reviewText      reviewerID  \\\n",
       "0  Installing the game was a struggle (because of...  A2HD75EMZR8QLN   \n",
       "1  If you like rally cars get this game you will ...  A3UR8NLLY1ZHCX   \n",
       "2  1st shipment received a book instead of the ga...  A1INA0F5CWW3J4   \n",
       "3  I got this version instead of the PS3 version,...  A1DLMTOTHQ4AST   \n",
       "4  I had Dirt 2 on Xbox 360 and it was an okay ga...  A361M14PU2GUEG   \n",
       "\n",
       "                         reviewerName  \\\n",
       "0                                 123   \n",
       "1  Alejandro Henao \"Electronic Junky\"   \n",
       "2          Amazon Shopper \"Mr.Repsol\"   \n",
       "3                            ampgreen   \n",
       "4        Angry Ryan \"Ryan A. Forrest\"   \n",
       "\n",
       "                                           summary unixReviewTime  \\\n",
       "0         Pay to unlock content? I don't think so.     1341792000   \n",
       "1                                  Good rally game     1372550400   \n",
       "2                                        Wrong key     1403913600   \n",
       "3  awesome game, if it did not crash frequently !!     1315958400   \n",
       "4                                           DIRT 3     1308009600   \n",
       "\n",
       "                                      sentiment  \n",
       "0  (-0.0001893939393939522, 0.6036195286195286)  \n",
       "1                               (0.225, 0.4125)  \n",
       "2     (-0.1708333333333333, 0.8166666666666668)  \n",
       "3    (0.007527056277056293, 0.4751455026455026)  \n",
       "4     (0.19079545454545455, 0.4518181818181818)  "
      ]
     },
     "execution_count": 25,
     "metadata": {},
     "output_type": "execute_result"
    }
   ],
   "source": [
    "from textblob import TextBlob\n",
    "\n",
    "df['sentiment'] = df.apply(lambda row: TextBlob(row['reviewText']).sentiment, axis=1)\n",
    "\n",
    "df.head()"
   ]
  },
  {
   "cell_type": "code",
   "execution_count": 8,
   "metadata": {},
   "outputs": [
    {
     "data": {
      "text/plain": [
       "Text(0,0.5,'Average Polarity')"
      ]
     },
     "execution_count": 8,
     "metadata": {},
     "output_type": "execute_result"
    },
    {
     "data": {
      "image/png": "[encoded data removed]",
      "text/plain": [
       "<matplotlib.figure.Figure at 0x1a80674780>"
      ]
     },
     "metadata": {},
     "output_type": "display_data"
    }
   ],
   "source": [
    "import matplotlib.pyplot as plt\n",
    "\n",
    "data_list = [(review['overall'], review['sentiment']) for i, review in df.iterrows()]\n",
    "\n",
    "avg_pol_vs_ovrl = dict()\n",
    "for entry in data_list:\n",
    "    if entry[0] in avg_pol_vs_ovrl:\n",
    "        avg_pol_vs_ovrl[entry[0]] += [entry[1].polarity]\n",
    "    else:\n",
    "        avg_pol_vs_ovrl[entry[0]] = [entry[1].polarity]\n",
    "\n",
    "overall_ratings = list(range(1, 6))\n",
    "average_polarity = [np.average(v) for k, v in avg_pol_vs_ovrl.items()]\n",
    "\n",
    "plt.plot(overall_ratings, average_polarity)\n",
    "plt.title('Average Polarity vs. Overall Rating')\n",
    "plt.xlabel('Overall Rating')\n",
    "plt.ylabel('Average Polarity')"
   ]
  },
  {
   "cell_type": "code",
   "execution_count": 9,
   "metadata": {},
   "outputs": [
    {
     "data": {
      "text/plain": [
       "Text(0,0.5,'Polarity')"
      ]
     },
     "execution_count": 9,
     "metadata": {},
     "output_type": "execute_result"
    },
    {
     "data": {
      "image/png": "[encoded data removed]",
      "text/plain": [
       "<matplotlib.figure.Figure at 0x1a806744e0>"
      ]
     },
     "metadata": {},
     "output_type": "display_data"
    }
   ],
   "source": [
    "data = [v for k, v in avg_pol_vs_ovrl.items()]\n",
    "plt.boxplot(data)\n",
    "plt.title('Polarity vs. Overall Rating')\n",
    "plt.xlabel('Overall Rating')\n",
    "plt.ylabel('Polarity')"
   ]
  },
  {
   "cell_type": "code",
   "execution_count": 48,
   "metadata": {},
   "outputs": [
    {
     "name": "stdout",
     "output_type": "stream",
     "text": [
      "{1: Counter({'pos': 7561, 'neg': 7292}), 2: Counter({'pos': 8698, 'neg': 4965}), 3: Counter({'pos': 21470, 'neg': 6805}), 4: Counter({'pos': 47276, 'neg': 7528}), 5: Counter({'pos': 104465, 'neg': 15720})}\n"
     ]
    },
    {
     "data": {
      "image/png": "[encoded data removed]",
      "text/plain": [
       "<matplotlib.figure.Figure at 0x1a82d76a20>"
      ]
     },
     "metadata": {},
     "output_type": "display_data"
    }
   ],
   "source": [
    "# Use NaiveBayesAnalyzer instead\n",
    "# And graph based on Classifier\n",
    "import nltk\n",
    "# nltk.download('punkt')\n",
    "from textblob import Blobber\n",
    "from textblob.sentiments import NaiveBayesAnalyzer\n",
    "import matplotlib.pyplot as plt\n",
    "from collections import Counter\n",
    "\n",
    "t_df = df\n",
    "\n",
    "tb = Blobber(analyzer=NaiveBayesAnalyzer())\n",
    "\n",
    "t_df.loc[:,'sentiment'] = t_df.apply(lambda row: tb(row['reviewText']).sentiment, axis=1)\n",
    "\n",
    "data_list = [(review['overall'], review['sentiment']) for i, review in t_df.iterrows()]\n",
    "\n",
    "class_vs_ovrl = dict()\n",
    "\n",
    "for entry in data_list:\n",
    "    if entry[0] in class_vs_ovrl:\n",
    "        class_vs_ovrl[entry[0]] += [entry[1].classification]\n",
    "    else:\n",
    "        class_vs_ovrl[entry[0]] = [entry[1].classification]\n",
    "\n",
    "overall_ratings = list(range(1, 6))\n",
    "count_dict = { 1: None, 2: None, 3: None, 4: None, 5: None }\n",
    "for k, v in class_vs_ovrl.items():\n",
    "    count_dict[k] = Counter(v)\n",
    "    \n",
    "neg_counts = [v['neg'] for k, v in count_dict.items()]\n",
    "pos_counts = [v['pos'] for k, v in count_dict.items()]\n",
    "\n",
    "print(count_dict)\n",
    "\n",
    "N = 5\n",
    "ind = np.arange(N)\n",
    "width = 0.35\n",
    "\n",
    "p1 = plt.bar(ind, neg_counts, width)\n",
    "p2 = plt.bar(ind, pos_counts, width, bottom=neg_counts)\n",
    "\n",
    "max_of_counts = max(neg_counts) + max(pos_counts)\n",
    "\n",
    "plt.ylabel('Classification (Pos | Neg)')\n",
    "plt.title('Classification by Overall Score')\n",
    "plt.xlabel('Overall Score')\n",
    "plt.xticks(ind, ('1', '2', '3', '4', '5'))\n",
    "plt.legend((p1[0], p2[0]), ('Neg', 'Pos'))\n",
    "\n",
    "plt.show()"
   ]
  },
  {
   "cell_type": "code",
   "execution_count": 6,
   "metadata": {},
   "outputs": [
    {
     "data": {
      "image/png": "[encoded data removed]",
      "text/plain": [
       "<matplotlib.figure.Figure at 0x1a8c41ad30>"
      ]
     },
     "metadata": {},
     "output_type": "display_data"
    }
   ],
   "source": [
    "# Look at objectivity vs helpfulness\n",
    "\n",
    "import matplotlib.pyplot as plt\n",
    "from textblob import Blobber\n",
    "# trial_df = df[:500]\n",
    "\n",
    "# In the helpful array:\n",
    "# the first value is votes for 'helpful', \n",
    "# second value if votes for 'not helpful'\n",
    "tb = Blobber()\n",
    "df.loc[:,'sentiment'] = df.apply(lambda row: tb(row['reviewText']).sentiment, axis=1)\n",
    "\n",
    "adjust_helpful_metric = lambda h: h[0]\n",
    "data_list = [(adjust_helpful_metric(review['helpful']), review['sentiment']) for i, review in df.iterrows()]\n",
    "\n",
    "help_vs_pol = dict()\n",
    "for entry in data_list:\n",
    "    if entry[0] in help_vs_pol:\n",
    "        help_vs_pol[entry[0]] += [entry[1].polarity]\n",
    "    else:\n",
    "        help_vs_pol[entry[0]] = [entry[1].polarity]\n",
    "\n",
    "helpful_ratings = list(help_vs_pol.keys())\n",
    "average_polarity = [np.average(v) for k, v in help_vs_pol.items()]\n",
    "width = 0.35\n",
    "p1 = plt.bar(helpful_ratings, average_polarity, width)\n",
    "\n",
    "plt.ylabel('Average Polarity')\n",
    "plt.title('Helpful vs Polarity')\n",
    "plt.xlabel('Helpful Rating')\n",
    "plt.show()"
   ]
  }
 ],
 "metadata": {
  "kernelspec": {
   "display_name": "Python 3",
   "language": "python",
   "name": "python3"
  },
  "language_info": {
   "codemirror_mode": {
    "name": "ipython",
    "version": 3
   },
   "file_extension": ".py",
   "mimetype": "text/x-python",
   "name": "python",
   "nbconvert_exporter": "python",
   "pygments_lexer": "ipython3",
   "version": "3.6.4"
  }
 },
 "nbformat": 4,
 "nbformat_minor": 2
}
